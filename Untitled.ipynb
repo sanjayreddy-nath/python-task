{
 "cells": [
  {
   "cell_type": "code",
   "execution_count": null,
   "id": "c75213f8-6d41-456e-8351-ba37367b6198",
   "metadata": {},
   "outputs": [],
   "source": []
  }
 ],
 "metadata": {
  "kernelspec": {
   "display_name": "",
   "name": ""
  },
  "language_info": {
   "name": ""
  }
 },
 "nbformat": 4,
 "nbformat_minor": 5
}
